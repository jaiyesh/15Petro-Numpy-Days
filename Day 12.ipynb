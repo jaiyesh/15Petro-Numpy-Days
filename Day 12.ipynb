{
 "cells": [
  {
   "cell_type": "markdown",
   "metadata": {},
   "source": [
    "# Day 12 of #15PetroNumpyDays"
   ]
  },
  {
   "cell_type": "markdown",
   "metadata": {},
   "source": [
    "# Random Number Generation 1"
   ]
  },
  {
   "cell_type": "code",
   "execution_count": 1,
   "metadata": {},
   "outputs": [],
   "source": [
    "import numpy as np "
   ]
  },
  {
   "cell_type": "markdown",
   "metadata": {},
   "source": [
    "## Generating totally random numbers: \n",
    "- Doesn't follow any distributions"
   ]
  },
  {
   "cell_type": "markdown",
   "metadata": {},
   "source": [
    "### Randint : Generating Random Integer\n",
    "- provide the maximum number"
   ]
  },
  {
   "cell_type": "code",
   "execution_count": 2,
   "metadata": {},
   "outputs": [
    {
     "data": {
      "text/plain": [
       "69"
      ]
     },
     "execution_count": 2,
     "metadata": {},
     "output_type": "execute_result"
    }
   ],
   "source": [
    "np.random.randint(50,100)"
   ]
  },
  {
   "cell_type": "code",
   "execution_count": 3,
   "metadata": {},
   "outputs": [],
   "source": [
    "a = np.random.randint(250,350,(4,3))"
   ]
  },
  {
   "cell_type": "code",
   "execution_count": 4,
   "metadata": {
    "scrolled": true
   },
   "outputs": [
    {
     "data": {
      "text/plain": [
       "array([[256, 339, 315],\n",
       "       [320, 319, 287],\n",
       "       [307, 292, 288],\n",
       "       [259, 314, 327]])"
      ]
     },
     "execution_count": 4,
     "metadata": {},
     "output_type": "execute_result"
    }
   ],
   "source": [
    "a"
   ]
  },
  {
   "cell_type": "code",
   "execution_count": 5,
   "metadata": {},
   "outputs": [],
   "source": [
    "a = np.random.randint(250,350,(3,4,3))"
   ]
  },
  {
   "cell_type": "code",
   "execution_count": 6,
   "metadata": {
    "scrolled": true
   },
   "outputs": [
    {
     "data": {
      "text/plain": [
       "array([[[282, 260, 348],\n",
       "        [304, 295, 324],\n",
       "        [290, 273, 314],\n",
       "        [280, 292, 313]],\n",
       "\n",
       "       [[256, 334, 289],\n",
       "        [316, 330, 280],\n",
       "        [258, 299, 253],\n",
       "        [266, 313, 325]],\n",
       "\n",
       "       [[325, 254, 297],\n",
       "        [312, 325, 312],\n",
       "        [337, 308, 311],\n",
       "        [280, 304, 268]]])"
      ]
     },
     "execution_count": 6,
     "metadata": {},
     "output_type": "execute_result"
    }
   ],
   "source": [
    "a"
   ]
  },
  {
   "cell_type": "markdown",
   "metadata": {},
   "source": [
    "### rand: Generating Random FLoat between 0 and 1\n",
    "- provide size"
   ]
  },
  {
   "cell_type": "code",
   "execution_count": 7,
   "metadata": {
    "scrolled": false
   },
   "outputs": [
    {
     "data": {
      "text/plain": [
       "0.5414177884340694"
      ]
     },
     "execution_count": 7,
     "metadata": {},
     "output_type": "execute_result"
    }
   ],
   "source": [
    "np.random.rand()"
   ]
  },
  {
   "cell_type": "code",
   "execution_count": 8,
   "metadata": {},
   "outputs": [
    {
     "data": {
      "text/plain": [
       "array([0.88920675, 0.47599235, 0.01606302, 0.50694702, 0.02045095])"
      ]
     },
     "execution_count": 8,
     "metadata": {},
     "output_type": "execute_result"
    }
   ],
   "source": [
    "np.random.rand(5)"
   ]
  },
  {
   "cell_type": "code",
   "execution_count": 9,
   "metadata": {},
   "outputs": [
    {
     "data": {
      "text/plain": [
       "array([[0.04668411, 0.5276426 , 0.15546227, 0.21617925],\n",
       "       [0.02295024, 0.70006772, 0.30168797, 0.02475482],\n",
       "       [0.16691251, 0.79535377, 0.48378792, 0.29412939],\n",
       "       [0.39094127, 0.5584853 , 0.48702266, 0.59081801],\n",
       "       [0.55601122, 0.27030386, 0.44516997, 0.77880107]])"
      ]
     },
     "execution_count": 9,
     "metadata": {},
     "output_type": "execute_result"
    }
   ],
   "source": [
    "np.random.rand(5,4)"
   ]
  },
  {
   "cell_type": "code",
   "execution_count": 10,
   "metadata": {},
   "outputs": [
    {
     "data": {
      "text/plain": [
       "array([[[0.12846978, 0.45411542],\n",
       "        [0.93118591, 0.92026651],\n",
       "        [0.94816721, 0.4838314 ],\n",
       "        [0.98266435, 0.65996996]],\n",
       "\n",
       "       [[0.99711212, 0.67790134],\n",
       "        [0.19576955, 0.09826027],\n",
       "        [0.87453202, 0.92221878],\n",
       "        [0.7664368 , 0.63849025]],\n",
       "\n",
       "       [[0.55540053, 0.30079785],\n",
       "        [0.40914499, 0.39044007],\n",
       "        [0.48366523, 0.58018903],\n",
       "        [0.67436538, 0.57560239]],\n",
       "\n",
       "       [[0.12801006, 0.3362617 ],\n",
       "        [0.91548998, 0.4168268 ],\n",
       "        [0.22971019, 0.37781503],\n",
       "        [0.35878995, 0.25500486]],\n",
       "\n",
       "       [[0.37593081, 0.61994554],\n",
       "        [0.56946824, 0.81115177],\n",
       "        [0.06071792, 0.5818838 ],\n",
       "        [0.1829528 , 0.99039347]]])"
      ]
     },
     "execution_count": 10,
     "metadata": {},
     "output_type": "execute_result"
    }
   ],
   "source": [
    "np.random.rand(5,4,2)"
   ]
  },
  {
   "cell_type": "code",
   "execution_count": 11,
   "metadata": {},
   "outputs": [],
   "source": [
    "inte = np.random.randint(200,size = (3,4))"
   ]
  },
  {
   "cell_type": "code",
   "execution_count": 12,
   "metadata": {},
   "outputs": [],
   "source": [
    "fl = np.random.rand(3,4)"
   ]
  },
  {
   "cell_type": "code",
   "execution_count": 13,
   "metadata": {},
   "outputs": [
    {
     "data": {
      "text/plain": [
       "array([[105.07278653,  66.76112102,  83.57007618, 150.37231007],\n",
       "       [181.12174968,  81.43485002, 137.31252787,  18.67509379],\n",
       "       [166.74940839,  78.59494144,  72.95989415, 182.15318243]])"
      ]
     },
     "execution_count": 13,
     "metadata": {},
     "output_type": "execute_result"
    }
   ],
   "source": [
    "inte + fl"
   ]
  },
  {
   "cell_type": "markdown",
   "metadata": {},
   "source": [
    "### Choice:\n",
    "- generate a random value based on an array of values"
   ]
  },
  {
   "cell_type": "code",
   "execution_count": 14,
   "metadata": {},
   "outputs": [
    {
     "data": {
      "text/plain": [
       "56"
      ]
     },
     "execution_count": 14,
     "metadata": {},
     "output_type": "execute_result"
    }
   ],
   "source": [
    "np.random.choice([43,56,76,89])"
   ]
  },
  {
   "cell_type": "code",
   "execution_count": 15,
   "metadata": {
    "scrolled": true
   },
   "outputs": [
    {
     "data": {
      "text/plain": [
       "array([[89, 89, 76, 76, 56],\n",
       "       [43, 76, 76, 89, 56],\n",
       "       [56, 76, 76, 43, 43]])"
      ]
     },
     "execution_count": 15,
     "metadata": {},
     "output_type": "execute_result"
    }
   ],
   "source": [
    "np.random.choice([43,56,76,89],size = (3,5))"
   ]
  },
  {
   "cell_type": "markdown",
   "metadata": {},
   "source": [
    "### By using choice we can also specify probability for each value\n",
    "- The sum of all probability numbers should be 1."
   ]
  },
  {
   "cell_type": "code",
   "execution_count": 16,
   "metadata": {},
   "outputs": [],
   "source": [
    "x = np.random.choice([3, 5, 7, 9], p=[1, 0, 0, 0], size=(5,6))"
   ]
  },
  {
   "cell_type": "code",
   "execution_count": 17,
   "metadata": {
    "scrolled": true
   },
   "outputs": [
    {
     "data": {
      "text/plain": [
       "array([[3, 3, 3, 3, 3, 3],\n",
       "       [3, 3, 3, 3, 3, 3],\n",
       "       [3, 3, 3, 3, 3, 3],\n",
       "       [3, 3, 3, 3, 3, 3],\n",
       "       [3, 3, 3, 3, 3, 3]])"
      ]
     },
     "execution_count": 17,
     "metadata": {},
     "output_type": "execute_result"
    }
   ],
   "source": [
    "x"
   ]
  }
 ],
 "metadata": {
  "kernelspec": {
   "display_name": "Python 3",
   "language": "python",
   "name": "python3"
  },
  "language_info": {
   "codemirror_mode": {
    "name": "ipython",
    "version": 3
   },
   "file_extension": ".py",
   "mimetype": "text/x-python",
   "name": "python",
   "nbconvert_exporter": "python",
   "pygments_lexer": "ipython3",
   "version": "3.7.4"
  }
 },
 "nbformat": 4,
 "nbformat_minor": 2
}
